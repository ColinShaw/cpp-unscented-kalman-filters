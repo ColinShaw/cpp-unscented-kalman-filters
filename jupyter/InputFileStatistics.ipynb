{
 "cells": [
  {
   "cell_type": "markdown",
   "metadata": {
    "collapsed": true
   },
   "source": [
    "## Input File Statistics \n",
    "\n",
    "This is used to compute the standard deviations of the residuals of the input files so that we have a good working \n",
    "estimate of the standard deviations to use in the project.  Basically it is just coordinate transformation and \n",
    "calculation of the standard deviation.  The values used in the project are basically the average rounded.  The second \n",
    "section involves looking at the rate of change of the radar measured velocity and yaw angle. "
   ]
  },
  {
   "cell_type": "code",
   "execution_count": 2,
   "metadata": {
    "collapsed": false
   },
   "outputs": [
    {
     "name": "stdout",
     "output_type": "stream",
     "text": [
      "File:  ../data/sample-laser-radar-measurement-data-1.txt\n",
      "px:  0.0550621983605\n",
      "py:  0.0482489411357\n",
      "vx:  1.32375092114\n",
      "vy:  1.67907181529\n",
      "rho:  0.101831322138\n",
      "phi:  0.00103346009555\n",
      "rho_dot:  0.106276974355\n",
      "\n",
      "File:  ../data/sample-laser-radar-measurement-data-2.txt\n",
      "px:  0.208049435877\n",
      "py:  0.218665738265\n",
      "vx:  0.150008299815\n",
      "vy:  0.539014910297\n",
      "rho:  0.197839534372\n",
      "phi:  0.00177516722645\n",
      "rho_dot:  0.0985115500912\n",
      "\n"
     ]
    }
   ],
   "source": [
    "import math\n",
    "import csv\n",
    "import numpy as np\n",
    "\n",
    "\n",
    "def compute(filename):\n",
    "    with open(filename, 'rt') as csvfile:\n",
    "        reader = csv.reader(csvfile, delimiter='\\t')\n",
    "        for row in reader:\n",
    "            if row[0] == 'R':\n",
    "                rho = float(row[1])\n",
    "                phi = float(row[2])\n",
    "                rho_dot = float(row[3])\n",
    " \n",
    "                px = rho * math.cos(phi)\n",
    "                py = rho * math.sin(phi)\n",
    "                vx = rho_dot * math.cos(phi)\n",
    "                vy = rho_dot * math.sin(phi)\n",
    "\n",
    "                px_gt = float(row[5])\n",
    "                py_gt = float(row[6])\n",
    "                vx_gt = float(row[7])\n",
    "                vy_gt = float(row[8])\n",
    "\n",
    "                rho_gt = math.sqrt(px_gt*px_gt + py_gt*py_gt)\n",
    "                phi_gt = math.atan2(py_gt, px_gt)\n",
    "                if rho_gt < 0.001:\n",
    "                    rho_dot_gt = 0.0\n",
    "                else:\n",
    "                    rho_dot_gt = (px_gt*vx_gt + py_gt*vy_gt) / rho_gt\n",
    "\n",
    "                pxs.append(px - px_gt)\n",
    "                pys.append(py - py_gt)\n",
    "\n",
    "                vxs.append(vx - vx_gt)\n",
    "                vys.append(vy - vy_gt)\n",
    "\n",
    "                rhos.append(rho - rho_gt)\n",
    "                phis.append(phi - phi_gt)\n",
    "                rhodots.append(rho_dot - rho_dot_gt)\n",
    "\n",
    "            if row[0] == 'L':\n",
    "                px = float(row[1])\n",
    "                py = float(row[2])\n",
    "\n",
    "                px_gt = float(row[4])\n",
    "                py_gt = float(row[5])\n",
    "\n",
    "                pxs.append(px - px_gt)\n",
    "                pys.append(py - py_gt)\n",
    "\n",
    "def standard_deviation(data):\n",
    "    data = np.array(data)\n",
    "    return np.std(data)\n",
    "\n",
    "def print_stats(filename):\n",
    "    print('File: ', filename)\n",
    "    print('px: ', standard_deviation(pxs))\n",
    "    print('py: ', standard_deviation(pys))    \n",
    "    print('vx: ', standard_deviation(vxs))\n",
    "    print('vy: ', standard_deviation(vys))\n",
    "    print('rho: ', standard_deviation(rhos))\n",
    "    print('phi: ', standard_deviation(phis))\n",
    "    print('rho_dot: ', standard_deviation(rhodots))\n",
    "    print('')\n",
    "\n",
    "\n",
    "for f in ['../data/sample-laser-radar-measurement-data-1.txt','../data/sample-laser-radar-measurement-data-2.txt']:\n",
    "    pxs, pys, vxs, vys, rhos, phis, rhodots = [], [], [], [], [], [], []\n",
    "    compute(f)\n",
    "    print_stats(f)\n"
   ]
  },
  {
   "cell_type": "markdown",
   "metadata": {},
   "source": [
    "While the above values work really well for the measurement standard deviations, the below, which estimates the process standard deviations by looking at changes in phi and rho dot with respect to time, is only an order of magnitude starting point.  This, coupled with testing it with the UKF code and adjusting it to minimize the RMSE, is where the values used come from."
   ]
  },
  {
   "cell_type": "code",
   "execution_count": 3,
   "metadata": {
    "collapsed": false
   },
   "outputs": [
    {
     "name": "stdout",
     "output_type": "stream",
     "text": [
      "File:  ../data/sample-laser-radar-measurement-data-1.txt\n",
      "Phi std:  0.2100944561\n",
      "Rho_dot std:  8.68929097026\n",
      "\n",
      "File:  ../data/sample-laser-radar-measurement-data-2.txt\n",
      "Phi std:  0.00990205014222\n",
      "Rho_dot std:  0.283344181369\n",
      "\n"
     ]
    }
   ],
   "source": [
    "import math\n",
    "import csv\n",
    "import numpy as np\n",
    "\n",
    "\n",
    "def compute(filename):\n",
    "    with open(filename, 'rt') as csvfile:\n",
    "        reader = csv.reader(csvfile, delimiter='\\t')\n",
    "        last_phi = 0.0\n",
    "        last_rho_dot = 0.0\n",
    "        last_time = 0.0\n",
    "        for row in reader:\n",
    "            if row[0] == 'R':\n",
    "                time = float(row[4])\n",
    "                dt = (time - last_time) / 1000000.0\n",
    "                last_time = time\n",
    "                \n",
    "                phi = float(row[2])\n",
    "                delta_phi = phi - last_phi\n",
    "                last_phi = phi\n",
    "                phis.append(delta_phi / dt)\n",
    "                \n",
    "                rho_dot = float(row[3])\n",
    "                delta_rho_dot = rho_dot - last_rho_dot\n",
    "                last_rho_dot = rho_dot\n",
    "                rho_dots.append(delta_rho_dot / dt)\n",
    "\n",
    "for f in ['../data/sample-laser-radar-measurement-data-1.txt','../data/sample-laser-radar-measurement-data-2.txt']:\n",
    "    phis, rho_dots = [], []\n",
    "    compute(f)\n",
    "    print(\"File: \", f)\n",
    "    print(\"Phi std: \", np.std(phis))\n",
    "    print(\"Rho_dot std: \", np.std(rho_dots))\n",
    "    print(\"\")\n",
    "    "
   ]
  },
  {
   "cell_type": "code",
   "execution_count": null,
   "metadata": {
    "collapsed": true
   },
   "outputs": [],
   "source": []
  }
 ],
 "metadata": {
  "anaconda-cloud": {},
  "kernelspec": {
   "display_name": "Python [conda env:tensorflow]",
   "language": "python",
   "name": "conda-env-tensorflow-py"
  },
  "language_info": {
   "codemirror_mode": {
    "name": "ipython",
    "version": 3
   },
   "file_extension": ".py",
   "mimetype": "text/x-python",
   "name": "python",
   "nbconvert_exporter": "python",
   "pygments_lexer": "ipython3",
   "version": "3.5.2"
  }
 },
 "nbformat": 4,
 "nbformat_minor": 2
}
